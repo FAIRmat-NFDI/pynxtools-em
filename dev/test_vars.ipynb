{
 "cells": [
  {
   "cell_type": "code",
   "execution_count": 12,
   "id": "815e2bd0-2ff4-424c-9512-a5cc60bf320a",
   "metadata": {},
   "outputs": [
    {
     "name": "stdout",
     "output_type": "stream",
     "text": [
      "| Concept | NeXus/HDF5 |\n",
      "| --------------- | --------------  |\n",
      "| Device | :heavy_check_mark: |\n",
      "| EmissionCurrent | :heavy_check_mark: |\n",
      "| HV | :heavy_check_mark: |\n",
      "| Magnification | :heavy_check_mark: |\n",
      "| PredictedBeamCurrent | :heavy_check_mark: |\n",
      "| SerialNumber | :heavy_check_mark: |\n",
      "| SpecimenCurrent | :heavy_check_mark: |\n",
      "| SpotSize | :heavy_check_mark: |\n",
      "| StageRotation | :heavy_check_mark: |\n",
      "| StageTilt | :heavy_check_mark: |\n",
      "| StageX | :heavy_check_mark: |\n",
      "| StageY | :heavy_check_mark: |\n",
      "| StageZ | :heavy_check_mark: |\n",
      "| StigmatorX | :heavy_check_mark: |\n",
      "| StigmatorY | :heavy_check_mark: |\n",
      "| WD | :heavy_check_mark: |\n"
     ]
    }
   ],
   "source": [
    "import pynxtools_em.configurations.image_tiff_tescan_cfg as tescan_cfg\n",
    "import pynxtools_em.configurations.nion_cfg as nion_cfg\n",
    "from pynxtools_em.concepts.mapping_functors_pint import get_case\n",
    "thisone = {\"NION\": nion_cfg,\n",
    "            \"TESCAN\": tescan_cfg}\n",
    "\n",
    "tech_partner = \"TESCAN\"\n",
    "a = vars(thisone[tech_partner])\n",
    "src_concepts = set()\n",
    "verbose = False\n",
    "for key, obj in a.items():\n",
    "    if key.startswith(tech_partner):\n",
    "        if verbose:\n",
    "            print(key)\n",
    "        prefix_src = []\n",
    "        concepts = []\n",
    "        for k, v in obj.items():\n",
    "            if not k.startswith(\"prefix\"):\n",
    "                if k != \"use\":\n",
    "                    if isinstance(v, list):\n",
    "                        for entry in v:\n",
    "                            case = get_case(entry)\n",
    "                            if verbose:\n",
    "                                print(f\"{entry}\")\n",
    "                                print(f\">>>>{get_case(entry)}\")\n",
    "                            if case == \"case_one\":\n",
    "                                concepts.append(entry)\n",
    "                            if case == \"case_two_str\":     \n",
    "                                concepts.append(entry[1])\n",
    "                            elif case == \"case_five_str\":\n",
    "                                concepts.append(entry[2])\n",
    "                            # TODO::add remaining cases\n",
    "                            elif case == \"case_five_list\":\n",
    "                                for val in entry[2]:\n",
    "                                    concepts.append(val)\n",
    "            elif k == \"prefix_src\":\n",
    "                if isinstance(v, str):\n",
    "                    prefix_src.append(v)\n",
    "                elif isinstance(v, list):\n",
    "                    for val in v:\n",
    "                        prefix_src.append(val)\n",
    "        for prefix in prefix_src:\n",
    "            for concept in concepts:\n",
    "                src_concepts.add(f\"{prefix}{concept}\")\n",
    "\n",
    "print(\"| Concept | NeXus/HDF5 |\")\n",
    "print(\"| --------------- | --------------  |\")\n",
    "for src_concept in sorted(src_concepts):\n",
    "    print(f\"| {src_concept} | :heavy_check_mark: |\")\n",
    "        # print(obj)\n",
    "        # get case\n",
    "        # fish all src concepts to build sorted list of {prefix_src}/src for all {prefix_src}"
   ]
  },
  {
   "cell_type": "code",
   "execution_count": null,
   "id": "b753eec4-0bea-4e39-80c6-520f5e00bd9f",
   "metadata": {},
   "outputs": [],
   "source": []
  },
  {
   "cell_type": "code",
   "execution_count": null,
   "id": "e0962859-5aef-49d8-8832-f9fb7a30921e",
   "metadata": {},
   "outputs": [],
   "source": []
  }
 ],
 "metadata": {
  "kernelspec": {
   "display_name": "Python 3 (ipykernel)",
   "language": "python",
   "name": "python3"
  },
  "language_info": {
   "codemirror_mode": {
    "name": "ipython",
    "version": 3
   },
   "file_extension": ".py",
   "mimetype": "text/x-python",
   "name": "python",
   "nbconvert_exporter": "python",
   "pygments_lexer": "ipython3",
   "version": "3.12.4"
  }
 },
 "nbformat": 4,
 "nbformat_minor": 5
}
