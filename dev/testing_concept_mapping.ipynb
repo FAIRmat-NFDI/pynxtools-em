{
 "cells": [
  {
   "cell_type": "code",
   "execution_count": null,
   "id": "4942e4a1-abf6-48bb-a0d1-0a4e6ef6e195",
   "metadata": {},
   "outputs": [],
   "source": [
    "import pint\n",
    "from pint import UnitRegistry\n",
    "import numpy as np"
   ]
  },
  {
   "cell_type": "code",
   "execution_count": null,
   "id": "82327973-f53d-4536-b589-5fd04406f0c5",
   "metadata": {},
   "outputs": [],
   "source": [
    "test = np.asarray(1., 'f4').item()\n",
    "# print(test)\n",
    "# print(type(test))\n",
    "# print(np.shape(test))\n",
    "# print(test.dtype)\n",
    "print(isinstance(True, (np.ndarray, np.generic)))\n",
    "print(np.isscalar(1))"
   ]
  },
  {
   "cell_type": "code",
   "execution_count": null,
   "id": "2e7b914f-1aed-4f2d-a69e-012e526da46b",
   "metadata": {},
   "outputs": [],
   "source": [
    "MAP_TO_DTYPES = {\n",
    "    \"u1\": np.uint8,\n",
    "    \"i1\": np.int8,\n",
    "    \"u2\": np.uint16,\n",
    "    \"i2\": np.int16,\n",
    "    \"f2\": np.float16,\n",
    "    \"u4\": np.uint32,\n",
    "    \"i4\": np.int32,\n",
    "    \"f4\": np.float32,\n",
    "    \"u8\": np.uint64,\n",
    "    \"i8\": np.int64,\n",
    "    \"f8\": np.float64,\n",
    "    \"bool\": bool}\n",
    "a = MAP_TO_DTYPES[\"bool\"](1)\n",
    "print(a)\n",
    "print(type(a))"
   ]
  },
  {
   "cell_type": "code",
   "execution_count": null,
   "id": "077e60c2-ff50-42b9-88d8-30fde5431eb3",
   "metadata": {},
   "outputs": [],
   "source": [
    "a = pint.Quantity(np.uint32(1), ureg.meter)\n",
    "b = pint.Quantity(np.array([1, 2], np.uint32), ureg.meter)\n",
    "print(type(a.magnitude))\n",
    "print(type(b.magnitude))\n",
    "print(a)\n",
    "print(b)\n",
    "# print(isinstance(a, pint.Quantity))"
   ]
  },
  {
   "cell_type": "code",
   "execution_count": null,
   "id": "e9f754a1-c88d-434d-a308-10af86f304bb",
   "metadata": {},
   "outputs": [],
   "source": [
    "print(type(np.uint32))"
   ]
  },
  {
   "cell_type": "code",
   "execution_count": null,
   "id": "73e0c4f9-c7fb-4e1c-92fe-50c4a6e61960",
   "metadata": {},
   "outputs": [],
   "source": [
    "ureg = UnitRegistry()\n",
    "print(type(ureg.kilometer))\n",
    "composite_unit = ureg.meter / ureg.second**2\n",
    "print(type(composite_unit))\n",
    "print(type(\"str\"))"
   ]
  },
  {
   "cell_type": "code",
   "execution_count": null,
   "id": "bc9259f0-b614-405d-9ab4-ea83bec57927",
   "metadata": {},
   "outputs": [],
   "source": [
    "# ureg.load_definitions(['dog_year = 52 * day = dy', 'guinea_pig_year = 80 / 6 * year = guineayear'])\n",
    "# alternatively\n",
    "ureg.define('nx_unitless = 1')\n",
    "ureg.define('nx_dimensionless = 1')\n",
    "ureg.define('nx_any = 1')\n",
    "\n",
    "print(type(ureg.nx_unitless))\n",
    "print(type(ureg.nx_dimensionless))\n",
    "print(type(ureg.nx_any))\n",
    "\n",
    "nxuless_a = ureg.Quantity(1, ureg.nx_unitless)\n",
    "nxuless_b = ureg.Quantity(2, ureg.nx_unitless)\n",
    "nxdless = ureg.Quantity(1, ureg.nx_dimensionless)\n",
    "nxany = ureg.Quantity(1, ureg.nx_any)\n",
    "print(type(nxuless_a.units))\n",
    "print(type(nxdless.units))\n",
    "print(type(nxany.units))\n",
    "# equality operator is overloaded for class pint.unit\n",
    "print(nxuless_a == nxuless_b)  # expecting false cuz same unit but different value\n",
    "print(nxuless_a.units == nxuless_b.units)  # expecting true cuz same units\n",
    "print(nxuless_a.units)  # very useful\n",
    "print(nxuless_a.dimensionless)  # problematic, pint does not really know the concept of NX_UNITLESS nor NX_ANY\n",
    "print(nxuless_a.units)\n",
    "# also problematic all three (unitless, dless, any) are unit categories not units!\n",
    "# but apart from this using pint makes much sense\n",
    "# i.e. first normalization using pint on the src side\n",
    "# then mapping on template on the trg side\n",
    "\n",
    "ureg.define('dog_year = 52 * day = dy')\n",
    "print(ureg.Quantity(2.5, ureg.dog_year).to('second').magnitude)\n",
    "print(ureg.Quantity(2.5, ureg.dog_year).to('second').units)\n",
    "import numpy as np\n",
    "np_val = np.int32(1)\n",
    "print(isinstance(np_val, np.generic))"
   ]
  },
  {
   "cell_type": "code",
   "execution_count": null,
   "id": "a5b3919c-6fcf-4403-ae23-f4e9ce44f076",
   "metadata": {},
   "outputs": [],
   "source": [
    "ureg.nx_unitless == ureg.nx_unitless"
   ]
  },
  {
   "cell_type": "code",
   "execution_count": null,
   "id": "1ab3ae9f-6e80-4510-9d07-57d86eaa0309",
   "metadata": {},
   "outputs": [],
   "source": [
    "s = \"voltage\"\n",
    "u = ureg.kilovolt  # composite_unit  # ureg.meter\n",
    "l = []\n",
    "# u = <class 'pint.uint.build_unit_class.<locals>.Unit'>\n",
    "susu = (s, u, s, u)\n",
    "sulu = (s, u, l, u)\n",
    "\n",
    "ssu = (s, s, u)\n",
    "slu = (s, l, u)\n",
    "\n",
    "sus = (s, u, s)\n",
    "sul = (s, u, l)\n",
    "\n",
    "ss = (s, s)\n",
    "sl = (s, l)\n",
    "\n",
    "print(susu)\n",
    "print(isinstance(susu, tuple))\n",
    "print(isinstance(susu[0], str))\n",
    "print(isinstance(susu[1], pint.Unit))\n",
    "# print(list(map(list(susu))))"
   ]
  },
  {
   "cell_type": "code",
   "execution_count": null,
   "id": "1bb7679f-242a-4a97-91f9-ae7e40a2544a",
   "metadata": {},
   "outputs": [],
   "source": [
    "def get_case(arg):   \n",
    "    if isinstance(arg, tuple):\n",
    "        if len(arg) == 4:             \n",
    "            if isinstance(arg[0], str) and isinstance(arg[1], pint.Unit) and isinstance(arg[3], pint.Unit):\n",
    "                if isinstance(arg[2], str):\n",
    "                    return \"case_five_str\"\n",
    "                elif isinstance(arg[2], list):\n",
    "                    return \"case_five_list\"\n",
    "        elif len(arg) == 3:\n",
    "            if isinstance(arg[0], str):\n",
    "                if isinstance(arg[1], str):\n",
    "                    if (arg[2], pint.Unit):\n",
    "                        return \"case_four_str\"\n",
    "                elif isinstance(arg[1], list):\n",
    "                    if (arg[2], pint.Unit):\n",
    "                        return \"case_four_list\"\n",
    "                elif isinstance(arg[1], pint.Unit):\n",
    "                    if isinstance(arg[2], str):\n",
    "                        return \"case_three_str\"\n",
    "                    elif isinstance(arg[2], list):\n",
    "                        return \"case_three_list\"\n",
    "        elif len(arg) == 2:\n",
    "            if isinstance(arg[0], str):\n",
    "                if isinstance(arg[1], str):\n",
    "                    return \"case_two_str\"\n",
    "                elif isinstance(arg[1], list):\n",
    "                    return \"case_two_list\"\n",
    "    elif isinstance(arg, str):\n",
    "        return \"case_one\"\n",
    "    return None"
   ]
  },
  {
   "cell_type": "code",
   "execution_count": null,
   "id": "0ef30d5b-fc59-45f6-b74f-157852f6a36b",
   "metadata": {},
   "outputs": [],
   "source": [
    "print(get_case(susu))\n",
    "print(get_case(sulu))\n",
    "\n",
    "print(get_case(ssu))\n",
    "print(get_case(slu))\n",
    "\n",
    "print(get_case(sus))\n",
    "print(get_case(sul))\n",
    "\n",
    "print(get_case(ss))\n",
    "print(get_case(sl))\n",
    "\n",
    "print(get_case(s))"
   ]
  },
  {
   "cell_type": "code",
   "execution_count": null,
   "id": "1a152430-c7ea-44fc-b917-f95e81fa6c78",
   "metadata": {
    "scrolled": true
   },
   "outputs": [],
   "source": [
    "Q = ureg.Quantity\n",
    "print(type(ureg('2.54')))\n",
    "print(type(Q(2.54)))\n",
    "print(type(ureg('2')))\n",
    "print(type(Q(2)))\n",
    "print(type(\"voltage\"))\n",
    "print(type(Q(2.54, ureg.meter)))"
   ]
  },
  {
   "cell_type": "code",
   "execution_count": null,
   "id": "b876f2ab-fcb6-4611-9dd7-2d173de9ae86",
   "metadata": {},
   "outputs": [],
   "source": [
    "Q(2.54, ureg.meter).to(ureg.mm)"
   ]
  },
  {
   "cell_type": "code",
   "execution_count": null,
   "id": "370fd556-4f76-493a-90ed-6ce3d4d8c6e4",
   "metadata": {},
   "outputs": [],
   "source": []
  },
  {
   "cell_type": "code",
   "execution_count": null,
   "id": "f150d2c5-30ce-4e11-8b4a-4cf80beb5ade",
   "metadata": {},
   "outputs": [],
   "source": []
  },
  {
   "cell_type": "code",
   "execution_count": null,
   "id": "d7b57cbc-f3e3-4a39-9a7b-f1500c1235a1",
   "metadata": {},
   "outputs": [],
   "source": []
  },
  {
   "cell_type": "code",
   "execution_count": null,
   "id": "4f334465-f394-4554-aca8-acae6646e3e1",
   "metadata": {},
   "outputs": [],
   "source": [
    "a = \"(ndet,)\"\n",
    "b = a[1:-1]\n",
    "print(b)\n",
    "print(b.split(\",\"))"
   ]
  },
  {
   "cell_type": "code",
   "execution_count": null,
   "id": "df7ffc3a-bfc0-4f50-b972-16decb7f2c6b",
   "metadata": {},
   "outputs": [],
   "source": [
    "print(list(filter(lambda token : token.strip() != '', b.split(\",\"))))"
   ]
  },
  {
   "cell_type": "code",
   "execution_count": null,
   "id": "caf6772e-4366-410f-8bff-ffce72473e25",
   "metadata": {},
   "outputs": [],
   "source": [
    "import numpy as np\n",
    "a = np.array([1, 2], np.float64)\n",
    "print(np.shape(a))\n",
    "a = np.float64(1)\n",
    "print(np.shape(a))"
   ]
  },
  {
   "cell_type": "code",
   "execution_count": null,
   "id": "c5116e91-7eeb-4d39-b593-4f9d37188639",
   "metadata": {},
   "outputs": [],
   "source": []
  }
 ],
 "metadata": {
  "kernelspec": {
   "display_name": "Python 3 (ipykernel)",
   "language": "python",
   "name": "python3"
  },
  "language_info": {
   "codemirror_mode": {
    "name": "ipython",
    "version": 3
   },
   "file_extension": ".py",
   "mimetype": "text/x-python",
   "name": "python",
   "nbconvert_exporter": "python",
   "pygments_lexer": "ipython3",
   "version": "3.12.4"
  }
 },
 "nbformat": 4,
 "nbformat_minor": 5
}
