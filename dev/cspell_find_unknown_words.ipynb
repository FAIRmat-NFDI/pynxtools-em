{
 "cells": [
  {
   "cell_type": "code",
   "execution_count": null,
   "id": "4947cdf2-de3a-4e42-a251-cc1e74ba636c",
   "metadata": {},
   "outputs": [],
   "source": [
    "# copy the log from the CI action here, cells below will fish out the unknown words to a set\n",
    "cspell_cicd_log = \\\n",
    "'''2025-08-08T14:27:03.5865186Z Current runner version: '2.327.1'\n",
    "2025-08-08T14:27:18.2994856Z docs/explanation/implementation.md:9:242 - Unknown word (hyperspy)\n",
    "2025-08-08T14:27:18.2996145Z docs/explanation/implementation.md:9:262 - Unknown word (rosettasccio)\n",
    "2025-08-08T14:27:18.7233848Z Cleaning up orphan processes'''"
   ]
  },
  {
   "cell_type": "code",
   "execution_count": null,
   "id": "9e7b6e4e-a9f9-46fe-bd17-bc1a6afa1b77",
   "metadata": {},
   "outputs": [],
   "source": [
    "import re\n",
    "unknown_words = set()\n",
    "for line in cspell_cicd_log.split((\"\\n\")):\n",
    "    if \"Unknown word\" in line:\n",
    "        match = re.search(r\"Unknown word \\([A-Za-z0-9]+\\)\", line)\n",
    "        if match:\n",
    "            unknown_words.add(match.group(0).replace(\"Unknown word \", \"\")[1:-1])\n",
    "for word in sorted(unknown_words):\n",
    "    print(word)"
   ]
  }
 ],
 "metadata": {
  "kernelspec": {
   "display_name": "Python 3 (ipykernel)",
   "language": "python",
   "name": "python3"
  },
  "language_info": {
   "codemirror_mode": {
    "name": "ipython",
    "version": 3
   },
   "file_extension": ".py",
   "mimetype": "text/x-python",
   "name": "python",
   "nbconvert_exporter": "python",
   "pygments_lexer": "ipython3",
   "version": "3.12.3"
  }
 },
 "nbformat": 4,
 "nbformat_minor": 5
}
