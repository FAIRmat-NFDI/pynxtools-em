{
 "cells": [
  {
   "cell_type": "markdown",
   "id": "c6fb69d8-85ca-40f6-bd1c-05dc064d6aca",
   "metadata": {},
   "source": [
    "## Concept traversal bugfixing"
   ]
  },
  {
   "cell_type": "code",
   "execution_count": 19,
   "id": "84f4d6d3-abb7-4003-a1b0-64605b8f4856",
   "metadata": {},
   "outputs": [
    {
     "name": "stdout",
     "output_type": "stream",
     "text": [
      "/home/kaiobach/Research/hu_hu_hu/sprint19/em/pynxtools_em\n",
      "{'name': 'roi', 'type': 'NXdata', 'nxdlbase': '/home/kaiobach/Research/hu_hu_hu/sprint19/em/.py3.11.5/lib/python3.11/site-packages/pynxtools/definitions/contributed_definitions/NXem_ebsd.nxdl.xml', 'nxdlbase_class': 'base', 'nxdlpath': '/indexing/roi'}\n",
      "{'name': 'map', 'type': 'NXdata', 'nxdlbase': '/home/kaiobach/Research/hu_hu_hu/sprint19/em/.py3.11.5/lib/python3.11/site-packages/pynxtools/definitions/contributed_definitions/NXms_ipf.nxdl.xml', 'nxdlbase_class': 'base', 'nxdlpath': '/map'}\n"
     ]
    }
   ],
   "source": [
    "import os\n",
    "import lxml.etree as ET\n",
    "from pynxtools.nexus import nexus\n",
    "\n",
    "fpath=\"/home/kaiobach/Research/hu_hu_hu/sprint19/em/.py3.11.5/lib64/python3.11/site-packages/pynxtools/definitions/contributed_definitions\"\n",
    "print(os.getcwd())\n",
    "nxdl_file_path = f\"{fpath}/NXem.nxdl.xml\"\n",
    "elem = ET.parse(nxdl_file_path).getroot()\n",
    "node = nexus.get_node_at_nxdl_path(\"/ENTRY/ROI/ebsd\", elem=elem) # inspect nxdlpath still all the way from root\n",
    "node = nexus.get_node_at_nxdl_path(\"/ENTRY/ROI/ebsd/indexing\", elem=elem) # oops, starting again as if root nxdlpath=\"/indexing\" where nxdlpath=\"/ENTRY/ROI/ebsd/indexing\" is expected\n",
    "node = nexus.get_node_at_nxdl_path(\"/ENTRY/ROI/ebsd/indexing/roi\", elem=elem) # oops, starting again as if root ... /indexing but should be /ENTRY/ROI/ebsd/indexing\n",
    "node = nexus.get_node_at_nxdl_path(\"/ENTRY/ROI/ebsd/indexing/phaseID\", elem=elem)  # walked fine further with however /indexing as root\n",
    "node = nexus.get_node_at_nxdl_path(\"/ENTRY/ROI/ebsd/indexing/phaseID/ipfID\", elem=elem)  # walked fine further with boom! again a jump /ipfID the new root\n",
    "# in all cases though the code was able to resolve that the concept were but after the root was redefined only!\n",
    "node = nexus.get_node_at_nxdl_path(\"/ENTRY/ROI/ebsd/indexing/phaseID/ipfID/map\", elem=elem) # boom ! yet another root instead of map that is an NXdata within an NXms_ipf\n",
    "print(node.attrib)"
   ]
  },
  {
   "cell_type": "code",
   "execution_count": null,
   "id": "70df188d-3d5b-4898-bc8a-8b99022dc66e",
   "metadata": {},
   "outputs": [],
   "source": []
  }
 ],
 "metadata": {
  "kernelspec": {
   "display_name": "Python 3 (ipykernel)",
   "language": "python",
   "name": "python3"
  },
  "language_info": {
   "codemirror_mode": {
    "name": "ipython",
    "version": 3
   },
   "file_extension": ".py",
   "mimetype": "text/x-python",
   "name": "python",
   "nbconvert_exporter": "python",
   "pygments_lexer": "ipython3",
   "version": "3.11.5"
  }
 },
 "nbformat": 4,
 "nbformat_minor": 5
}
