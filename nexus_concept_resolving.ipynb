{
 "cells": [
  {
   "cell_type": "markdown",
   "id": "c6fb69d8-85ca-40f6-bd1c-05dc064d6aca",
   "metadata": {},
   "source": [
    "## Concept traversal bugfixing"
   ]
  },
  {
   "cell_type": "code",
   "execution_count": 1,
   "id": "84f4d6d3-abb7-4003-a1b0-64605b8f4856",
   "metadata": {},
   "outputs": [
    {
     "name": "stdout",
     "output_type": "stream",
     "text": [
      "/home/kaiobach/Research/hu_hu_hu/sprint19/em/pynxtools_em\n",
      "/ENTRY\n",
      "{'type': 'NXentry', 'minOccurs': '1', 'maxOccurs': 'unbounded', 'nxdlbase': '', 'nxdlbase_class': 'application', 'nxdlpath': '/ENTRY'}\n",
      "/ENTRY/ROI\n",
      "{'type': 'NXroi', 'minOccurs': '0', 'maxOccurs': 'unbounded', 'nxdlbase': '', 'nxdlbase_class': 'application', 'nxdlpath': '/ENTRY/ROI'}\n",
      "/ENTRY/ROI/ebsd\n",
      "{'name': 'ebsd', 'type': 'NXem_ebsd', 'optional': 'true', 'nxdlbase': '', 'nxdlbase_class': 'application', 'nxdlpath': '/ENTRY/ROI/ebsd'}\n",
      "/ENTRY/ROI/ebsd/indexing\n",
      "{'name': 'indexing', 'type': 'NXprocess', 'nxdlbase': '/home/kaiobach/Research/hu_hu_hu/sprint19/em/.py3.11.5/lib/python3.11/site-packages/pynxtools/definitions/contributed_definitions/NXem_ebsd.nxdl.xml', 'nxdlbase_class': 'base', 'nxdlpath': '/indexing'}\n",
      "/ENTRY/ROI/ebsd/indexing/phaseID\n",
      "{'name': 'phaseID', 'type': 'NXcrystal_structure', 'nxdlbase': '/home/kaiobach/Research/hu_hu_hu/sprint19/em/.py3.11.5/lib/python3.11/site-packages/pynxtools/definitions/contributed_definitions/NXem_ebsd.nxdl.xml', 'nxdlbase_class': 'base', 'nxdlpath': '/indexing/phaseID'}\n",
      "/ENTRY/ROI/ebsd/indexing/phaseID/ipfID\n",
      "{'name': 'ipfID', 'type': 'NXms_ipf', 'nxdlbase': '/home/kaiobach/Research/hu_hu_hu/sprint19/em/.py3.11.5/lib/python3.11/site-packages/pynxtools/definitions/contributed_definitions/NXcrystal_structure.nxdl.xml', 'nxdlbase_class': 'base', 'nxdlpath': '/ipfID'}\n",
      "/ENTRY/ROI/ebsd/indexing/phaseID/ipfID/map\n",
      "{'name': 'map', 'type': 'NXdata', 'nxdlbase': '/home/kaiobach/Research/hu_hu_hu/sprint19/em/.py3.11.5/lib/python3.11/site-packages/pynxtools/definitions/contributed_definitions/NXms_ipf.nxdl.xml', 'nxdlbase_class': 'base', 'nxdlpath': '/map'}\n",
      "/ENTRY/ROI/ebsd/indexing/phaseID/ipfID/map/data\n",
      "{'name': 'data', 'type': 'NX_NUMBER', 'units': 'NX_UNITLESS', 'nxdlbase': '/home/kaiobach/Research/hu_hu_hu/sprint19/em/.py3.11.5/lib/python3.11/site-packages/pynxtools/definitions/contributed_definitions/NXms_ipf.nxdl.xml', 'nxdlbase_class': 'base', 'nxdlpath': '/map/data'}\n"
     ]
    }
   ],
   "source": [
    "import os\n",
    "import lxml.etree as ET\n",
    "import numpy as np\n",
    "from pynxtools.nexus import nexus\n",
    "\n",
    "fpath=\"/home/kaiobach/Research/hu_hu_hu/sprint19/em/.py3.11.5/lib64/python3.11/site-packages/pynxtools/definitions/contributed_definitions\"\n",
    "print(os.getcwd())\n",
    "nxdl_file_path = f\"{fpath}/NXem.nxdl.xml\"\n",
    "elem = ET.parse(nxdl_file_path).getroot()\n",
    "# read_nexus -d gives concept_path + class_path + documentation for all its superclasses as well\n",
    "# -c requires the concept_path with a leading /NXmyfancyappdefname/....\n",
    "# test_nxdl_concept_path = \"NXem:/ENTRY/ROI/ebsd/indexing/phaseID/ipfID/map\"\n",
    "test_nxdl_concept_path = \"/ENTRY/ROI/ebsd/indexing/phaseID/ipfID/map/data\"\n",
    "# as defined in NXDL in general but not a concept name we go beyond the base classes (you cannot find such valid path directly in the NeXus glossary because if you dgo tb bsclass you havent spelled it out base class was same as reference, inferring that what is in the base class we can compose to what is)\n",
    "test_nx_data_path = \"/entry/roi/ebsd/indexing/phase1/ipf1/map/data\"  # aka hdf_path\n",
    "# actual name how an instance of an nxdl_concept_path shows up in HDF5\n",
    "test_nx_template_path = \"/ENTRY[entry]/ROI[roi]/ebsd/indexing/phaseID[phase1]/ipfID[ipf1]/map/data\"\n",
    "# pynxtools-specific guidance to people working with the template entry one assumption made:\n",
    "# either we write a fixed name or a variable name\n",
    "# (two kinds: uppercase in name or the property nameType = any is specified in the NXDL)\n",
    "# possibility to omit ID completely\n",
    "test_class_path = \"/NXentry/NXroi/NXem_ebsd/NXprocess/NXcrystal_structure/NXms_ipf/NXdata/NX_NUMBER\"\n",
    "\n",
    "n_len = len(test_nxdl_concept_path.split(\"/\"))\n",
    "for pos in np.arange(2, n_len + 1):\n",
    "    trg = f\"/{'/'.join(test_nxdl_concept_path.split('/')[1:pos])}\"\n",
    "    print(trg)\n",
    "    node = nexus.get_node_at_nxdl_path(trg, elem=elem)\n",
    "    # get_node_at_nxdl_path with just get_node_at_nxdl_path(\"/\", elem=elem) starting from a root\n",
    "    # an application definition is a possibility for defining a specialized NXentry\n",
    "    print(node.attrib)\n",
    "\n",
    "# node = nexus.get_node_at_nxdl_path(\"/ENTRY/ROI/ebsd\", elem=elem) # inspect nxdlpath still all the way from root\n",
    "# node = nexus.get_node_at_nxdl_path(\"/ENTRY/ROI/ebsd/indexing\", elem=elem) # oops, starting again as if root nxdlpath=\"/indexing\" where nxdlpath=\"/ENTRY/ROI/ebsd/indexing\" is expected\n",
    "# node = nexus.get_node_at_nxdl_path(\"/ENTRY/ROI/ebsd/indexing/roi\", elem=elem) # oops, starting again as if root ... /indexing but should be /ENTRY/ROI/ebsd/indexing\n",
    "# node = nexus.get_node_at_nxdl_path(\"/ENTRY/ROI/ebsd/indexing/phaseID\", elem=elem)  # walked fine further with however /indexing as root\n",
    "# node = nexus.get_node_at_nxdl_path(\"/ENTRY/ROI/ebsd/indexing/phaseID/ipfID\", elem=elem)  # walked fine further with boom! again a jump /ipfID the new root\n",
    "# in all cases though the code was able to resolve that the concept were but after the root was redefined only!\n",
    "# node = nexus.get_node_at_nxdl_path(\"/ENTRY/ROI/ebsd/indexing/phaseID/ipfID/map\", elem=elem) # boom ! yet another root instead of map that is an NXdata within an NXms_ipf\n",
    "# print(node.attrib)"
   ]
  },
  {
   "cell_type": "code",
   "execution_count": null,
   "id": "70df188d-3d5b-4898-bc8a-8b99022dc66e",
   "metadata": {},
   "outputs": [],
   "source": [
    "f\"/{'/'.join('/ENTRY/ROI/ebsd/indexing/phaseID/ipfID/map'.split('/')[1:3])}\""
   ]
  },
  {
   "cell_type": "code",
   "execution_count": null,
   "id": "062bc32b-211c-484d-b7e9-61ec96621031",
   "metadata": {},
   "outputs": [],
   "source": []
  }
 ],
 "metadata": {
  "kernelspec": {
   "display_name": "Python 3 (ipykernel)",
   "language": "python",
   "name": "python3"
  },
  "language_info": {
   "codemirror_mode": {
    "name": "ipython",
    "version": 3
   },
   "file_extension": ".py",
   "mimetype": "text/x-python",
   "name": "python",
   "nbconvert_exporter": "python",
   "pygments_lexer": "ipython3",
   "version": "3.11.5"
  }
 },
 "nbformat": 4,
 "nbformat_minor": 5
}
