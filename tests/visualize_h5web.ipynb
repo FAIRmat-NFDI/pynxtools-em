{
 "cells": [
  {
   "cell_type": "code",
   "execution_count": 2,
   "id": "979fa5ba-711e-4dff-a078-d6396d1f450d",
   "metadata": {},
   "outputs": [
    {
     "data": {
      "application/x-hdf5": "/home/kaiobach/Research/hu_hu_hu/sprint28/pynx-em/pynxtools_em/tests/prod/data.nxs_nion.yNmUKFllSK2e8B_y-E8LBQ.zip.nxs",
      "text/plain": [
       "<jupyterlab_h5web.widget.H5Web object>"
      ]
     },
     "execution_count": 2,
     "metadata": {},
     "output_type": "execute_result"
    }
   ],
   "source": [
    "from jupyterlab_h5web import H5Web\n",
    "fpath = \"prod/data.nxs_nion.yNmUKFllSK2e8B_y-E8LBQ.zip.nxs\"\n",
    "H5Web(fpath)"
   ]
  },
  {
   "cell_type": "code",
   "execution_count": null,
   "id": "16e34345-7221-45c1-abbd-c7c16b6e3a02",
   "metadata": {},
   "outputs": [],
   "source": []
  }
 ],
 "metadata": {
  "kernelspec": {
   "display_name": "Python 3 (ipykernel)",
   "language": "python",
   "name": "python3"
  },
  "language_info": {
   "codemirror_mode": {
    "name": "ipython",
    "version": 3
   },
   "file_extension": ".py",
   "mimetype": "text/x-python",
   "name": "python",
   "nbconvert_exporter": "python",
   "pygments_lexer": "ipython3",
   "version": "3.11.12"
  }
 },
 "nbformat": 4,
 "nbformat_minor": 5
}
