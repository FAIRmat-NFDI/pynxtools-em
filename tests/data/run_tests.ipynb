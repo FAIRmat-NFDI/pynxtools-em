{
 "cells": [
  {
   "cell_type": "code",
   "execution_count": null,
   "id": "fc9345cb-46bf-4df3-9dac-1bde062d9020",
   "metadata": {},
   "outputs": [],
   "source": [
    "import os\n",
    "print(os.getcwd())"
   ]
  },
  {
   "cell_type": "markdown",
   "id": "e69ad935-80fd-4e70-af69-ac98e0bf2e34",
   "metadata": {},
   "source": [
    "## Define tests"
   ]
  },
  {
   "cell_type": "code",
   "execution_count": null,
   "id": "48f6e922-52d3-412f-8345-0641d33e676e",
   "metadata": {},
   "outputs": [],
   "source": [
    "tests = {\n",
    "    \"conventions\": [\"em.conventions.yaml\"],\n",
    "    \"eln\": [(\"eln_data.yaml\", \"em.oasis.specific.yaml\")],\n",
    "    \"hfive_apex\": [\"VInP_108_L2.h5\", \"InGaN_nanowires_map.edaxh5\", \"InGaN_nanowires_linescan.edaxh5\", \"InGaN_nanowires_spectra.edaxh5\", \"AlGaO.h5\", \"2023-08-16_Ni_NFDI.edaxh5\"],\n",
    "    \"hfive_bruker\": [\"066_0025.h5\"],\n",
    "    \"hfive_dreamthreed_legacy\": [\"067_0003.dream3d\", \"SmallIN100_Final.dream3d\", \"244_0014.dream3d\"],\n",
    "    \"hfive_edax\": [\"001_0050.h5\", \"229_2097.oh5\"],\n",
    "    \"hfive_oxford\": [\"57764_CR_ZG_380.h5oina\", \"EBSDCleanedMapData7.h5oina\", \"173_0057.h5oina\", \"173_0056.h5oina\"],\n",
    "    \"image_diffraction_pattern\": [\"original_data.zip\"],\n",
    "    \"image_hitachi\": [(\"360.tif\", \"360.txt\")],\n",
    "    \"image_jeol\": [(\"20240227_A1_2m_0_FA3_1.tif\", \"20240227_A1_2m_0_FA3_1.txt\")],\n",
    "    \"image_point_electronic\": [\"Defekt1.tif\"],\n",
    "    \"image_protochips\": [\"ReductionOfFeOxSmall.zip\"],\n",
    "    \"image_tescan\": [(\"Ti3C2VacDriedFilm19.tif\", \"Ti3C2VacDriedFilm19.hdr\"), \"CZ04-2_102_Pic_2.tif\"],\n",
    "    \"image_tfs\": [\"ALN_baoh_021.tif\", \"ETD_image.tif\", \"T3_image.tif\", \"NavCam_normal_vis_light_ccd.tif\", \"0c8nA_3deg_003_AplusB_test.tif\"],\n",
    "    \"image_zeiss\": [\"SE2.tif\"],\n",
    "    \"nxs_nion\": [\"2022-02-18_Metadata_Kuehbach.zip\"],\n",
    "    \"rsciio_gatan\": [\"262.b97850f6c6b100740813c34d20eda294ef66a6130daa42a6cf975c4572ff599c.dm3\", \"265.6a232b951fe99bb06c481e6863b5b590df194b0766c915218586c81077417e8a.dm4\"],\n",
    "    \"rsciio_velox\": [\"258.fbbd9cdfcf8be1b1d6e056cdf4186a0505df9188bbf52ebe36e74e271a8c972b.emd\", \"265.2dccb74e742d9807d736689ee1bdeb149aabbbccbecab89ab0d5855678a2b338.emd\"]\n",
    "}"
   ]
  },
  {
   "cell_type": "code",
   "execution_count": null,
   "id": "76307f34-592d-461d-b145-95b628b59079",
   "metadata": {},
   "outputs": [],
   "source": [
    "! mkdir -p prod && mkdir -p log"
   ]
  },
  {
   "cell_type": "markdown",
   "id": "36a351a5-940d-4891-bb7e-1f4ba4100f6d",
   "metadata": {},
   "source": [
    "## Run tests"
   ]
  },
  {
   "cell_type": "code",
   "execution_count": null,
   "id": "809a88fe-5e4f-4429-b668-8a7956210606",
   "metadata": {},
   "outputs": [],
   "source": [
    "for parser_type, list_of_tests in tests.items():\n",
    "    for entry in list_of_tests:\n",
    "        if isinstance(entry, str):  # no sidecar file          \n",
    "            print(f\"Running test {parser_type}/{entry}\")\n",
    "            curr_dir = f\"{os.getcwd()}/data/{parser_type}\"\n",
    "            in_one = f\"{curr_dir}/{entry}\"\n",
    "            out = f\"prod/data.{parser_type}.{entry}.nxs\"\n",
    "            stdout = f\"log/stdout.{parser_type}.{entry}.txt\"\n",
    "            stderr = f\"log/stderr.{parser_type}.{entry}.txt\"\n",
    "            ! dataconverter $in_one --reader em --nxdl NXem --output $out 1>$stdout 2>$stderr            \n",
    "            continue\n",
    "        elif isinstance(entry, tuple):  # with sidecar file\n",
    "            if len(entry) == 2 and all(isinstance(val, str) for val in entry):\n",
    "                print(f\"Running test {parser_type}/{entry}\")\n",
    "                curr_dir = f\"{os.getcwd()}/data/{parser_type}\"\n",
    "                in_one = f\"{curr_dir}/{entry[0]}\"\n",
    "                in_two = f\"{curr_dir}/{entry[1]}\"\n",
    "                out = f\"prod/data.{parser_type}.{entry[0]}.nxs\"\n",
    "                stdout = f\"log/stdout.{parser_type}.{entry[0]}.txt\"\n",
    "                stderr = f\"log/stderr.{parser_type}.{entry[0]}.txt\"\n",
    "                ! dataconverter $in_one $in_two --reader em --nxdl NXem --output $out 1>$stdout 2>$stderr\n",
    "                continue\n",
    "        print(f\"Skipping test {parser_type}/{entry}\")\n",
    "print(\"Ran all tests\")"
   ]
  },
  {
   "cell_type": "code",
   "execution_count": null,
   "id": "0596754b-1305-4501-ba96-d2b634ab5c3c",
   "metadata": {},
   "outputs": [],
   "source": []
  }
 ],
 "metadata": {
  "kernelspec": {
   "display_name": "Python 3 (ipykernel)",
   "language": "python",
   "name": "python3"
  },
  "language_info": {
   "codemirror_mode": {
    "name": "ipython",
    "version": 3
   },
   "file_extension": ".py",
   "mimetype": "text/x-python",
   "name": "python",
   "nbconvert_exporter": "python",
   "pygments_lexer": "ipython3",
   "version": "3.12.4"
  }
 },
 "nbformat": 4,
 "nbformat_minor": 5
}
