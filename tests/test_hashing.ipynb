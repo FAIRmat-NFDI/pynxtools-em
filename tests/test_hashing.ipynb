{
 "cells": [
  {
   "cell_type": "code",
   "execution_count": null,
   "id": "3a13668d-c080-46d8-b4d9-13a6ec326287",
   "metadata": {},
   "outputs": [],
   "source": [
    "import os\n",
    "print(os.getcwd())\n",
    "from pynxtools_em.parsers.hfive_base import HdfFiveBaseParser\n",
    "\n",
    "fpath = \"data/hashing/CompositionSpace.Results.1.nxs\""
   ]
  },
  {
   "cell_type": "code",
   "execution_count": null,
   "id": "f7de0735-4223-4e07-9227-d10941325314",
   "metadata": {},
   "outputs": [],
   "source": [
    "tmp = HdfFiveBaseParser(fpath, hashing=True, verbose=False)\n",
    "tmp.get_content()\n",
    "blacklist = [\"/@HDF5_version\",\n",
    "             \"/@NX_class\",\n",
    "             \"/@NeXus_repository\",\n",
    "             \"/@NeXus_version\",\n",
    "             # \"/@default\",\n",
    "             \"/@file_name\",\n",
    "             \"/@file_time\",\n",
    "             \"/@h5py_version\"]\n",
    "tmp.store_hashes(blacklist)"
   ]
  },
  {
   "cell_type": "code",
   "execution_count": null,
   "id": "09901dbd-fc69-4ba2-9622-90007c013a99",
   "metadata": {},
   "outputs": [],
   "source": [
    "# only debug code follows"
   ]
  },
  {
   "cell_type": "code",
   "execution_count": null,
   "id": "d6b82141-9a22-4258-9e97-c7833cf1071b",
   "metadata": {},
   "outputs": [],
   "source": [
    "# import hashlib\n",
    "# import numpy as np\n",
    "# bytes_obj = np.linspace(1, 10**8, num=10**8, endpoint=True, dtype=np.uint32)\n",
    "# bytes_obj[-1] = 0\n",
    "# print(bytes_obj[-1])\n",
    "# sha256_hash = hashlib.sha256()\n",
    "# sha256_hash.update(bytes(bytes_obj))\n",
    "# print(f\"{sha256_hash.hexdigest()}\")"
   ]
  }
 ],
 "metadata": {
  "kernelspec": {
   "display_name": "Python 3 (ipykernel)",
   "language": "python",
   "name": "python3"
  },
  "language_info": {
   "codemirror_mode": {
    "name": "ipython",
    "version": 3
   },
   "file_extension": ".py",
   "mimetype": "text/x-python",
   "name": "python",
   "nbconvert_exporter": "python",
   "pygments_lexer": "ipython3",
   "version": "3.11.12"
  }
 },
 "nbformat": 4,
 "nbformat_minor": 5
}
