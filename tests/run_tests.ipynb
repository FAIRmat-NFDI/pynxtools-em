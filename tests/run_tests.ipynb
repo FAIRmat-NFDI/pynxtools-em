{
 "cells": [
  {
   "cell_type": "code",
   "execution_count": 1,
   "id": "fc9345cb-46bf-4df3-9dac-1bde062d9020",
   "metadata": {},
   "outputs": [
    {
     "name": "stdout",
     "output_type": "stream",
     "text": [
      "/home/kaiobach/Research/hu_hu_hu/sprint31/tmp_activate_odf_and_ms_in_nxem/pynx-em/pynxtools-em/tests\n",
      "/home/kaiobach/Research/hu_hu_hu/sprint31/tmp_activate_odf_and_ms_in_nxem/.pytmp/bin/python\n",
      "pynxtools                     0.11.0.post1.dev10+g4ba59aa80          /home/kaiobach/Research/hu_hu_hu/sprint31/tmp_activate_odf_and_ms_in_nxem/pynx-core/pynxtools\n",
      "pynxtools-em                  0.3.3.post1.dev57+g0c4bdcb45.d20250805 /home/kaiobach/Research/hu_hu_hu/sprint31/tmp_activate_odf_and_ms_in_nxem/pynx-em/pynxtools-em\n",
      "module://matplotlib_inline.backend_inline\n"
     ]
    }
   ],
   "source": [
    "import os\n",
    "import sys\n",
    "sys.path.append(f\"../src\")\n",
    "from pynxtools_em.parsers.hfive_base import HdfFiveBaseParser, NXEM_VOLATILE_METADATA\n",
    "print(os.getcwd())\n",
    "! mkdir -p prod && mkdir -p log && which python\n",
    "! pip list | grep pynxtools*\n",
    "import matplotlib\n",
    "print(matplotlib.get_backend())"
   ]
  },
  {
   "cell_type": "markdown",
   "id": "73587f5a-076f-4f58-9dbf-f55fb4d363e0",
   "metadata": {},
   "source": [
    "## Example how to find all unit tests"
   ]
  },
  {
   "cell_type": "code",
   "execution_count": 2,
   "id": "106e096b-603b-4ed1-bd01-eb50330cce4e",
   "metadata": {},
   "outputs": [
    {
     "name": "stdout",
     "output_type": "stream",
     "text": [
      "custom_reference_frame\n",
      "default\n",
      "ebsd_mtex\n",
      "ebsd_oina\n",
      "ger_berlin_koch_group\n",
      "hfive_apex_algao\n",
      "hfive_apex_ingan\n",
      "hfive_apex_nibase\n",
      "hfive_apex_vinp\n",
      "hfive_bruker\n",
      "hfive_dreamthreed_damask\n",
      "hfive_dreamthreed_groeber\n",
      "hfive_dreamthreed_manchester\n",
      "hfive_edax_ag\n",
      "hfive_edax_am\n",
      "hfive_oxford_pinard_ebsd\n",
      "hfive_oxford_pinard_rois\n",
      "hfive_oxford_vitesh1\n",
      "hfive_oxford_vitesh2\n",
      "image_fei_legacy_sem\n",
      "image_fei_legacy_tem\n",
      "image_hitachi\n",
      "image_hitachi_su8000\n",
      "image_jeol\n",
      "image_point_electronic\n",
      "image_protochips\n",
      "image_tescan_mira\n",
      "image_tescan_sidecar\n",
      "image_tfs_etd\n",
      "image_tfs_kit\n",
      "image_tfs_misc\n",
      "image_tfs_navcam\n",
      "image_tfs_t3\n",
      "image_tfs_yassin\n",
      "image_zeiss\n",
      "nxs_nion_haas2022\n",
      "nxs_nion_haas2025\n",
      "rsciio_gatan_dm3\n",
      "rsciio_gatan_dm4\n",
      "rsciio_gatan_dm5\n",
      "rsciio_velox_258\n",
      "rsciio_velox_265\n"
     ]
    }
   ],
   "source": [
    "mk_dir = False\n",
    "test_case_directories = set()\n",
    "for root, dirnames, files in os.walk(os.getcwd()):\n",
    "    for filename in files:  # loop through files in the current directory\n",
    "        file_name = os.path.join(root, filename)\n",
    "        if file_name.startswith(f\"{os.getcwd()}/data/\"):\n",
    "            test_case_name = file_name[0:file_name.rfind(\"/\")].replace(f\"{os.getcwd()}/data/\", \"\")\n",
    "            if not test_case_name.startswith(\"/home\"):\n",
    "                test_case_directories.add(test_case_name)\n",
    "        del file_name\n",
    "for test_case in sorted(test_case_directories):\n",
    "    print(test_case)\n",
    "    for subdir in [\"prod\", \"log\", \"reference\"]:\n",
    "        fpath = f\"{os.getcwd()}/{subdir}/{test_case}\"\n",
    "        if not(os.path.exists(fpath) and os.path.isdir(fpath)):\n",
    "            if mk_dir:\n",
    "                os.mkdir(fpath)\n",
    "        del fpath"
   ]
  },
  {
   "cell_type": "markdown",
   "id": "6fa1302e-4c69-4f4e-8b09-86f98105b6e9",
   "metadata": {},
   "source": [
    "## Generate list of all tests for code launch.json"
   ]
  },
  {
   "cell_type": "code",
   "execution_count": null,
   "id": "5475f074-3ff8-4cb5-aeac-b4e4601ad8e9",
   "metadata": {},
   "outputs": [],
   "source": [
    "for test_case in sorted(test_case_directories):\n",
    "    file_list = os.listdir(f\"{os.getcwd()}/data/{test_case}\")\n",
    "    # for file_name in file_list:\n",
    "    #    print(f'''                     //\"tests/data/{test_case}/{file_name}\",''')\n",
    "    # print(f'''                     //\"tests/prod/{test_case}/output.nxs\"]''')    "
   ]
  },
  {
   "cell_type": "markdown",
   "id": "36a351a5-940d-4891-bb7e-1f4ba4100f6d",
   "metadata": {},
   "source": [
    "## Run tests"
   ]
  },
  {
   "cell_type": "code",
   "execution_count": 5,
   "id": "809a88fe-5e4f-4429-b668-8a7956210606",
   "metadata": {
    "scrolled": true
   },
   "outputs": [
    {
     "name": "stdout",
     "output_type": "stream",
     "text": [
      "- [ ] custom_reference_frame\n",
      "- [ ] default\n",
      "- [ ] ebsd_mtex\n",
      "- [ ] ebsd_oina\n",
      "- [ ] ger_berlin_koch_group\n",
      "- [ ] hfive_apex_algao\n",
      "- [ ] hfive_apex_ingan\n",
      "- [ ] hfive_apex_nibase\n",
      "- [ ] hfive_apex_vinp\n",
      "- [ ] hfive_bruker\n",
      "- [ ] hfive_dreamthreed_damask\n",
      "- [ ] hfive_dreamthreed_groeber\n",
      "- [ ] hfive_dreamthreed_manchester\n",
      "- [ ] hfive_edax_ag\n",
      "- [ ] hfive_edax_am\n",
      "- [ ] hfive_oxford_pinard_ebsd\n",
      "- [ ] hfive_oxford_pinard_rois\n",
      "- [ ] hfive_oxford_vitesh1\n",
      "- [ ] hfive_oxford_vitesh2\n",
      "- [ ] image_fei_legacy_sem\n",
      "- [ ] image_fei_legacy_tem\n",
      "- [ ] image_hitachi\n",
      "- [ ] image_hitachi_su8000\n",
      "- [ ] image_jeol\n",
      "- [ ] image_point_electronic\n",
      "- [ ] image_protochips\n",
      "- [ ] image_tescan_mira\n",
      "- [ ] image_tescan_sidecar\n",
      "- [ ] image_tfs_etd\n",
      "- [ ] image_tfs_kit\n",
      "- [ ] image_tfs_misc\n",
      "- [ ] image_tfs_navcam\n",
      "- [ ] image_tfs_t3\n",
      "- [ ] image_tfs_yassin\n",
      "- [ ] image_zeiss\n",
      "- [ ] nxs_nion_haas2022\n",
      "- [ ] nxs_nion_haas2025\n",
      "- [ ] rsciio_gatan_dm3\n",
      "- [ ] rsciio_gatan_dm4\n",
      "- [ ] rsciio_gatan_dm5\n",
      "- [ ] rsciio_velox_258\n",
      "- [ ] rsciio_velox_265\n",
      "Ran 41 tests\n"
     ]
    }
   ],
   "source": [
    "run_parser = True\n",
    "verbose = True\n",
    "whitelist = []\n",
    "blacklist = []\n",
    "n_tests = 0\n",
    "bash_script_lines = [\"#!/bin/sh\", \"\"]\n",
    "for test_case in sorted(test_case_directories):\n",
    "    if len(whitelist) > 0:\n",
    "        if test_case not in whitelist:\n",
    "            continue\n",
    "    if len(blacklist) > 0:\n",
    "        if test_case in blacklist:\n",
    "            continue\n",
    "\n",
    "    print(f\"- [ ] {test_case}\")  # , {len(file_list)}\")\n",
    "    curr_dir = f\"{os.getcwd()}/data/{test_case}\"\n",
    "    file_list = os.listdir(curr_dir)\n",
    "    out = f\"{os.getcwd()}/prod/{test_case}/output.nxs\"  # data.{parser_type}.{entry}.nxs\"\n",
    "    stdout = f\"{os.getcwd()}/log/{test_case}/stdout.{test_case}.txt\"\n",
    "    stderr = f\"{os.getcwd()}/log/{test_case}/stderr.{test_case}.txt\"\n",
    "    bash_script_lines.append(f'''echo \"{test_case}\"''')\n",
    "    if len(file_list) == 1:\n",
    "        in_one = f\"{curr_dir}/{file_list[0]}\"\n",
    "        if run_parser:\n",
    "            # ! dataconverter $in_one --reader em --nxdl NXem --output $out 1>$stdout 2>$stderr\n",
    "            bash_script_lines.append(f\"dataconverter {in_one} --reader em --nxdl NXem --output {out} 1>{stdout} 2>{stderr}\")\n",
    "            n_tests += 1\n",
    "        del in_one\n",
    "    elif len(file_list) == 2:\n",
    "        in_one = f\"{curr_dir}/{file_list[0]}\"\n",
    "        in_two = f\"{curr_dir}/{file_list[1]}\"\n",
    "        if run_parser:\n",
    "            # ! dataconverter $in_one $in_two --reader em --nxdl NXem --output $out 1>$stdout 2>$stderr\n",
    "            bash_script_lines.append(f\"dataconverter {in_one} {in_two} --reader em --nxdl NXem --output {out} 1>{stdout} 2>{stderr}\")\n",
    "            n_tests += 1\n",
    "        del in_one, in_two\n",
    "    elif len(file_list) == 3:\n",
    "        in_one = f\"{curr_dir}/{file_list[0]}\"\n",
    "        in_two = f\"{curr_dir}/{file_list[1]}\"\n",
    "        in_three = f\"{curr_dir}/{file_list[2]}\"\n",
    "        if run_parser:\n",
    "            # ! dataconverter $in_one $in_two $in_three --reader em --nxdl NXem --output $out 1>$stdout 2>$stderr\n",
    "            bash_script_lines.append(f\"dataconverter {in_one} {in_two} {in_three} --reader em --nxdl NXem --output {out} 1>{stdout} 2>{stderr}\")\n",
    "            n_tests += 1\n",
    "        del in_one, in_two, in_three\n",
    "    del file_list, curr_dir, out, stdout, stderr\n",
    "print(f\"Ran {n_tests} tests\")\n",
    "with open(f\"{os.getcwd()}/run_tests.sh\", \"w\") as fp:\n",
    "    fp.write(\"\\n\".join(bash_script_lines))"
   ]
  },
  {
   "cell_type": "markdown",
   "id": "cb878848-c966-4163-8235-f2e8eff4c4c4",
   "metadata": {},
   "source": [
    "## Example how to generate a reference artifact from a NeXus file for unit tests"
   ]
  },
  {
   "cell_type": "code",
   "execution_count": 6,
   "id": "28a14fc5-6ce8-4ceb-a837-dfe7586b6c55",
   "metadata": {},
   "outputs": [
    {
     "name": "stdout",
     "output_type": "stream",
     "text": [
      "- [ ] custom_reference_frame\n",
      "- [ ] default\n",
      "- [ ] ebsd_mtex\n",
      "- [ ] ebsd_oina\n",
      "- [ ] ger_berlin_koch_group\n",
      "- [ ] hfive_apex_algao\n",
      "- [ ] hfive_apex_ingan\n",
      "- [ ] hfive_apex_nibase\n",
      "- [ ] hfive_apex_vinp\n",
      "- [ ] hfive_bruker\n",
      "- [ ] hfive_dreamthreed_damask\n",
      "- [ ] hfive_dreamthreed_groeber\n",
      "- [ ] hfive_dreamthreed_manchester\n",
      "- [ ] hfive_edax_ag\n",
      "- [ ] hfive_edax_am\n",
      "- [ ] hfive_oxford_pinard_ebsd\n",
      "- [ ] hfive_oxford_pinard_rois\n",
      "- [ ] hfive_oxford_vitesh1\n",
      "- [ ] hfive_oxford_vitesh2\n",
      "- [ ] image_fei_legacy_sem\n",
      "- [ ] image_fei_legacy_tem\n",
      "- [ ] image_hitachi\n",
      "- [ ] image_hitachi_su8000\n",
      "- [ ] image_jeol\n",
      "- [ ] image_point_electronic\n",
      "- [ ] image_protochips\n",
      "- [ ] image_tescan_mira\n",
      "- [ ] image_tescan_sidecar\n",
      "- [ ] image_tfs_etd\n",
      "- [ ] image_tfs_kit\n",
      "- [ ] image_tfs_misc\n",
      "- [ ] image_tfs_navcam\n",
      "- [ ] image_tfs_t3\n",
      "- [ ] image_tfs_yassin\n",
      "- [ ] image_zeiss\n",
      "- [ ] nxs_nion_haas2022\n",
      "- [ ] nxs_nion_haas2025\n",
      "- [ ] rsciio_gatan_dm3\n",
      "- [ ] rsciio_gatan_dm4\n",
      "- [ ] rsciio_gatan_dm5\n",
      "- [ ] >>>> ERROR >>>> rsciio_gatan_dm5\n",
      "- [ ] rsciio_velox_258\n",
      "- [ ] rsciio_velox_265\n"
     ]
    }
   ],
   "source": [
    "whitelist = []\n",
    "blacklist = []\n",
    "for test_case in sorted(test_case_directories):\n",
    "    if len(whitelist) > 0:\n",
    "        if test_case not in whitelist:\n",
    "            continue\n",
    "    if len(blacklist) > 0:\n",
    "        if test_case in blacklist:\n",
    "            continue           \n",
    "    print(f\"- [ ] {test_case}\")\n",
    "    fpath_in = f\"{os.getcwd()}/prod/{test_case}/output.nxs\"\n",
    "    fpath_out = f\"{os.getcwd()}/reference/{test_case}/output.nxs.sha256.ref.yaml\"\n",
    "    try:\n",
    "        hfive_parser = HdfFiveBaseParser(file_path=fpath_in, hashing=True, verbose=False)\n",
    "        hfive_parser.get_content()\n",
    "        hfive_parser.store_hashes(blacklist=NXEM_VOLATILE_METADATA, file_path=fpath_out)\n",
    "    except FileNotFoundError:\n",
    "        print(f\"- [ ] >>>> ERROR >>>> {test_case}\")\n",
    "    del fpath_in, fpath_out, hfive_parser"
   ]
  },
  {
   "cell_type": "markdown",
   "id": "24abc8aa-2f9e-4a7d-b656-2cf204fdec15",
   "metadata": {},
   "source": [
    "***"
   ]
  },
  {
   "cell_type": "code",
   "execution_count": null,
   "id": "501c9585-c64b-4c89-9e42-4a31cb00eb9f",
   "metadata": {},
   "outputs": [],
   "source": []
  },
  {
   "cell_type": "code",
   "execution_count": null,
   "id": "13dd475f-4cf2-472d-99c0-ff72c55674e5",
   "metadata": {},
   "outputs": [],
   "source": []
  },
  {
   "cell_type": "code",
   "execution_count": null,
   "id": "a86c1971-a405-42e9-9d3b-7c1cafdd425d",
   "metadata": {},
   "outputs": [],
   "source": []
  },
  {
   "cell_type": "code",
   "execution_count": null,
   "id": "9214f20e-2ce1-4a6a-9e29-cff9f1019887",
   "metadata": {},
   "outputs": [],
   "source": []
  },
  {
   "cell_type": "markdown",
   "id": "e69ad935-80fd-4e70-af69-ac98e0bf2e34",
   "metadata": {},
   "source": [
    "## Define tests"
   ]
  },
  {
   "cell_type": "code",
   "execution_count": null,
   "id": "48f6e922-52d3-412f-8345-0641d33e676e",
   "metadata": {},
   "outputs": [],
   "source": [
    "tests = {\n",
    "    \"eln\": [(\"eln_data.yaml\", \"em.oasis.specific.yaml\")],\n",
    "    \"default\": [(\"output.nxs_eln_data.yaml\", \"InGaN_nanowires_spectra.edaxh5\")], \n",
    "    \"nxs_nion\": [\"2022-02-18_Metadata_Kuehbach.zip\"],\n",
    "    \"rsciio_velox\": [\"258.fbbd9cdfcf8be1b1d6e056cdf4186a0505df9188bbf52ebe36e74e271a8c972b.emd\", \"265.2dccb74e742d9807d736689ee1bdeb149aabbbccbecab89ab0d5855678a2b338.emd\"],\n",
    "    \"image_tfs\": [\"ALN_baoh_021.tif\", \"ETD_image.tif\", \"T3_image.tif\", \"NavCam_normal_vis_light_ccd.tif\", \"0c8nA_3deg_003_AplusB_test.tif\"],\n",
    "    \"rsciio_gatan\": [\"262.b97850f6c6b100740813c34d20eda294ef66a6130daa42a6cf975c4572ff599c.dm3\", \"265.6a232b951fe99bb06c481e6863b5b590df194b0766c915218586c81077417e8a.dm4\"],\n",
    "\n",
    "    \"image_hitachi\": [(\"360.tif\", \"360.txt\")],\n",
    "    \"image_jeol\": [(\"20240227_A1_2m_0_FA3_1.tif\", \"20240227_A1_2m_0_FA3_1.txt\")],\n",
    "    \"image_zeiss\": [\"SE2.tif\"],\n",
    "    \"image_tescan\": [(\"Ti3C2VacDriedFilm19.tif\", \"Ti3C2VacDriedFilm19.hdr\"), \"CZ04-2_102_Pic_2.tif\"],\n",
    "    \"image_point_electronic\": [\"Defekt1.tif\"],\n",
    "    \"image_protochips\": [\"ReductionOfFeOxSmall.zip\"],\n",
    "    \"image_fei_legacy\": [\"BF_02_40kx.tif\", \"SEM_Image_-_SliceImage_-_109.tif\"],\n",
    "\n",
    "    \"hfive_oxford\": [\"57764_CR_ZG_380.h5oina\", \"EBSDCleanedMapData7.h5oina\", \"173_0057.h5oina\", \"173_0056.h5oina\"],  \n",
    "    \"hfive_apex\": [\"InGaN_nanowires_map.edaxh5\", \"InGaN_nanowires_linescan.edaxh5\", \"InGaN_nanowires_spectra.edaxh5\"], # \"2023-08-16_Ni_NFDI.edaxh5\", \"AlGaO.h5\", \"VInP_108_L2.h5\"],\n",
    "    \"hfive_bruker\": [\"066_0025.h5\"],\n",
    "    \"hfive_edax\": [\"001_0050.h5\", \"229_2097.oh5\"],\n",
    "\n",
    "    \"image_diffraction_pattern\": [\"original_data.zip\"],\n",
    "    \"conventions\": [\"em.conventions.yaml\"],\n",
    "    #\"hfive_dreamthreed_legacy\": [\"067_0003.dream3d\", \"SmallIN100_Final.dream3d\", \"244_0014.dream3d\"],\n",
    "}"
   ]
  }
 ],
 "metadata": {
  "kernelspec": {
   "display_name": "Python 3 (ipykernel)",
   "language": "python",
   "name": "python3"
  },
  "language_info": {
   "codemirror_mode": {
    "name": "ipython",
    "version": 3
   },
   "file_extension": ".py",
   "mimetype": "text/x-python",
   "name": "python",
   "nbconvert_exporter": "python",
   "pygments_lexer": "ipython3",
   "version": "3.12.3"
  }
 },
 "nbformat": 4,
 "nbformat_minor": 5
}
