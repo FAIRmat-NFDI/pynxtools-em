{
 "cells": [
  {
   "cell_type": "code",
   "execution_count": null,
   "id": "fc9345cb-46bf-4df3-9dac-1bde062d9020",
   "metadata": {},
   "outputs": [],
   "source": [
    "import os\n",
    "print(os.getcwd())\n",
    "! mkdir -p prod && mkdir -p log && which python"
   ]
  },
  {
   "cell_type": "markdown",
   "id": "ebefc771-dad0-4e1d-a801-76605e787dde",
   "metadata": {},
   "source": [
    "## Context\n",
    "\n",
    "Different file formats and usage scenarios of the dataconverter will typically use a different combination of instance data<br>\n",
    "for concepts, one file format may report the voltage and microscope fabrication details, the next not etc.<br>\n",
    "Therefore, possibly not all required as well as recommended concepts from an appdef will be populatable during<br>\n",
    "parsing (i.e. running dataconverter) unless the missing metadata are streamed in from other sources (e.g. custom ELNs).<br>\n",
    "Consequently, the validation part of the dataconverter may issue WARNINGS:: about missing or other non-compliances of<br>\n",
    "an actual set of content with instance data that is written to the NeXus/HDF5 file.<br>"
   ]
  },
  {
   "cell_type": "markdown",
   "id": "07effe8f-dc2a-4884-8c4c-58e38f555dee",
   "metadata": {},
   "source": [
    "## What does this code do?\n",
    "\n",
    "This code here fishes these warnings from a set of e.g. batch-processed conversion tasks performed to support developers<br>\n",
    "with detecting and fixing common patterns of cases where the application definition is not fulfilled completely.<br>"
   ]
  },
  {
   "cell_type": "code",
   "execution_count": null,
   "id": "48f6e922-52d3-412f-8345-0641d33e676e",
   "metadata": {},
   "outputs": [],
   "source": [
    "# inspect run_tests.ipynb to see which tests are available"
   ]
  },
  {
   "cell_type": "code",
   "execution_count": null,
   "id": "809a88fe-5e4f-4429-b668-8a7956210606",
   "metadata": {
    "scrolled": true
   },
   "outputs": [],
   "source": [
    "root_directory = f\"{os.getcwd()}/log\"\n",
    "verbose = True\n",
    "issues = {}\n",
    "whitelist = []  # \"stderr.nxs_nion.2022-02-18_Metadata_Kuehbach.zip.txt\"]\n",
    "blacklist = []\n",
    "# [\"stderr.nxs_nion.2022-02-18_Metadata_Kuehbach.zip.txt\",\n",
    "# \"stderr.image_diffraction_pattern.original_data.zip.txt\"]\n",
    "for root, dirs, files in os.walk(root_directory):\n",
    "    for file in files:\n",
    "        fpath = f\"{root}/{file}\".replace(os.sep * 2, os.sep)\n",
    "        fname = os.path.basename(fpath)\n",
    "        if fname.startswith(\"stderr.\") and fname.endswith(\".txt\"):\n",
    "            # print(f\"{fname}\")\n",
    "            if len(whitelist) > 0:\n",
    "                if fname not in whitelist:\n",
    "                    continue\n",
    "            if len(blacklist) > 0:\n",
    "               if fname in blacklist:\n",
    "                    continue\n",
    "            with open(fpath, mode=\"r\", encoding=\"utf8\") as fp:\n",
    "                txt = fp.read()\n",
    "                txt = txt.replace(\"\\r\\n\", \"\\n\")  # windows to unix EOL conversion\n",
    "                tokenized = [line for line in txt.split(\"\\n\") if line.strip() != \"\" and line.startswith(\"#\") is False]\n",
    "                for line in tokenized:\n",
    "                    if line.startswith(\"WARNING: \"):\n",
    "                        if line not in issues:\n",
    "                            issues[line] = [fname]\n",
    "                        else:\n",
    "                            issues[line].append(fname)\n",
    "                del txt\n",
    "n_issues = 0\n",
    "for key, val in issues.items():  # sorted()\n",
    "    if verbose and (not any(token in key for token in [\"is being written\", \"written without documentation\"])):\n",
    "        print(f\"{key}, {len(val)}\")\n",
    "        #for entry in val:\n",
    "        #    print(f\"\\t{entry[len('stderr.'):]}\")\n",
    "        # print(f\"{key}, {len(val)}\")  # {val}\")\n",
    "        n_issues += 1\n",
    "print(f\"There are {n_issues} types of WARNINGs across the set\")"
   ]
  },
  {
   "cell_type": "code",
   "execution_count": null,
   "id": "28a14fc5-6ce8-4ceb-a837-dfe7586b6c55",
   "metadata": {},
   "outputs": [],
   "source": []
  },
  {
   "cell_type": "code",
   "execution_count": null,
   "id": "111d8d4b-5185-4cdb-ba93-a931735e1758",
   "metadata": {},
   "outputs": [],
   "source": []
  }
 ],
 "metadata": {
  "kernelspec": {
   "display_name": "Python 3 (ipykernel)",
   "language": "python",
   "name": "python3"
  },
  "language_info": {
   "codemirror_mode": {
    "name": "ipython",
    "version": 3
   },
   "file_extension": ".py",
   "mimetype": "text/x-python",
   "name": "python",
   "nbconvert_exporter": "python",
   "pygments_lexer": "ipython3",
   "version": "3.11.11"
  }
 },
 "nbformat": 4,
 "nbformat_minor": 5
}
