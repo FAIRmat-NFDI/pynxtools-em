{
 "cells": [
  {
   "cell_type": "code",
   "execution_count": null,
   "id": "6da1aea0-545b-446b-a3d1-1574af72f6c6",
   "metadata": {},
   "outputs": [],
   "source": [
    "import numpy as np\n",
    "from rsciio import emd, digitalmicrograph\n",
    "from jupyterlab_h5web import H5Web\n",
    "import h5py\n",
    "from matplotlib import pyplot as plt\n",
    "import xraydb\n",
    "import flatdict as fd\n",
    "from ase.data import chemical_symbols\n",
    "print(chemical_symbols[1::])"
   ]
  },
  {
   "cell_type": "code",
   "execution_count": null,
   "id": "3889c47f-11c4-4bf3-97de-04fc52f0798d",
   "metadata": {},
   "outputs": [],
   "source": [
    "src = \"/home/kaiobach/Research/paper_paper_paper/scidat_nomad_ebsd/bb_analysis/data/development_spiecker\"\n",
    "\n",
    "fnms = [(\"\", \"1340_Camera_Ceta_440_kx.emd\"),\n",
    "        (\"\", \"1403_STEM_HAADF-DF-I-DF-O-BF_3.80_Mx.emd\"),\n",
    "        (\"\", \"2102_SI_HAADF.emd\"),\n",
    "        (\"\", \"20240305_Spectrum_EDS_90000_x.emd\"),\n",
    "        (\"\", \"SI_data_(8).dmw\"),\n",
    "        (\"Si_data_(8)\", \"(5)_Spectrum_of_EELS_Spectrum_Image_(high-loss).dm4\"),\n",
    "        (\"Si_data_(8)\", \"ADF_Image.dm4\"),\n",
    "        (\"Si_data_(8)\", \"ADF_Image_(SI_Survey).dm4\"),\n",
    "        (\"Si_data_(8)\", \"EELS_Spectrum_Image_(high-loss).dm4\"),\n",
    "        (\"Si_data_(8)\", \"EELS_Spectrum_Image_(low-loss).dm4\")]\n",
    "case = 3\n",
    "if fnms[case][0] == \"\":\n",
    "    fnm = f\"{src}/{fnms[case][1]}\"\n",
    "else:\n",
    "    fnm = f\"{src}/{fnms[case][0]}/{fnms[case][1]}\"\n",
    "print(fnm)"
   ]
  },
  {
   "cell_type": "code",
   "execution_count": null,
   "id": "a4d9ef96-3c70-4c12-80ba-ea4a7d716d47",
   "metadata": {},
   "outputs": [],
   "source": [
    "# H5Web(fnm)"
   ]
  },
  {
   "cell_type": "code",
   "execution_count": null,
   "id": "221abf67-0d88-4088-9cc7-e0d9b85c4699",
   "metadata": {
    "tags": []
   },
   "outputs": [],
   "source": [
    "# resulting NeXus artifact\n",
    "# H5Web(f\"debug.{fnms[case][1]}.nxs\")"
   ]
  },
  {
   "cell_type": "code",
   "execution_count": null,
   "id": "75b32c8f-8efa-4b40-bfc8-6f95300902ea",
   "metadata": {
    "tags": []
   },
   "outputs": [],
   "source": [
    "objs = emd.file_reader(fnm)\n",
    "print(len(objs))\n",
    "for idx, obj in enumerate(objs):\n",
    "    if not isinstance(obj, dict):\n",
    "        raise ValueError(\"No dict!\")\n",
    "    print(obj.keys())\n",
    "    meta = fd.FlatDict(obj[\"metadata\"], \"/\")\n",
    "    # if meta[\"General/title\"] == \"Te\":\n",
    "    for key, val in obj.items():\n",
    "        print(f\"{idx}, {key}, {np.shape(val)}\")\n",
    "    print(f\"\\n\\n{obj['axes']}\")\n",
    "    print(\"\\n\\n\")\n",
    "    for key, val in meta.items():\n",
    "        print(f\"{key}: {val}\")\n",
    "    orgmeta = fd.FlatDict(obj[\"original_metadata\"], \"/\")\n",
    "    print(\"\\n\\n\")\n",
    "    # for key, val in orgmeta.items():\n",
    "    #     print(f\"{key} {type(val)}, {val}\")\n",
    "# print(f\"{type(objs[0])}\")\n",
    "# print(objs[0].keys())"
   ]
  },
  {
   "cell_type": "code",
   "execution_count": null,
   "id": "acb98c77-d6ec-46d5-abe6-8b45bfa3fb4a",
   "metadata": {},
   "outputs": [],
   "source": []
  },
  {
   "cell_type": "code",
   "execution_count": null,
   "id": "818d4afc-ac3c-4302-9f49-0c815062cb9b",
   "metadata": {},
   "outputs": [],
   "source": []
  }
 ],
 "metadata": {
  "kernelspec": {
   "display_name": "Python 3 (ipykernel)",
   "language": "python",
   "name": "python3"
  },
  "language_info": {
   "codemirror_mode": {
    "name": "ipython",
    "version": 3
   },
   "file_extension": ".py",
   "mimetype": "text/x-python",
   "name": "python",
   "nbconvert_exporter": "python",
   "pygments_lexer": "ipython3",
   "version": "3.11.5"
  }
 },
 "nbformat": 4,
 "nbformat_minor": 5
}
