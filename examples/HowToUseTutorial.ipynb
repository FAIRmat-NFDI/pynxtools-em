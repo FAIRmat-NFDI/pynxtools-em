{
 "cells": [
  {
   "cell_type": "markdown",
   "metadata": {},
   "source": [
    "# How to convert electron microscopy (meta)data to NeXus/HDF5"
   ]
  },
  {
   "cell_type": "markdown",
   "metadata": {},
   "source": [
    "The aim of this tutorial is to guide users how to create a NeXus/HDF5 file to parse and normalize pieces of information<br>\n",
    "from typical file formats of the electron microscopy community into a common form. The tool assures that this NeXus file<br>\n",
    "matches to the NXem application definition. Such documented conceptually, the file can be used for sharing electron<br>\n",
    "microscopy research with others (colleagues, project partners, the public), for uploading a summary of the (meta)data to<br>\n",
    "public repositories and thus avoid additional work that typically comes with having to write documentation of metadata<br>\n",
    "in such repositories by hand but use a research data management system like NOMAD Oasis instead.<br>\n",
    "\n",
    "The benefit of the data normalization that pynxtools-em performs is that all pieces of information are represents in the<br>\n",
    "same conceptual way with the benefit that most of the so far required format conversions when interfacing with software<br>\n",
    "from the technology partners or scientific community are no longer necessary.<br>"
   ]
  },
  {
   "cell_type": "markdown",
   "metadata": {
    "tags": []
   },
   "source": [
    "### **Step 1:** Check that packages are installed and working in your local Python environment."
   ]
  },
  {
   "cell_type": "markdown",
   "metadata": {},
   "source": [
    "Check the result of the query below specifically that `jupyterlab_h5web` and `pynxtools` are installed in your environment.<br>\n",
    "Note that next to the name pynxtools you should see the directory in which it is installed. Otherwise, make sure that you follow<br>\n",
    "the instructions in the `README` files:  \n",
    "- How to set up a development environment as in the main README  \n",
    "- Lauch the jupyter lab from this environement as in the README of folder `examples`"
   ]
  },
  {
   "cell_type": "code",
   "execution_count": null,
   "metadata": {},
   "outputs": [],
   "source": [
    "! pip list | grep \"h5py\\|nexus\\|jupyter\\|jupyterlab_h5web\\|pynxtools\\|pynxtools-em\""
   ]
  },
  {
   "cell_type": "markdown",
   "metadata": {},
   "source": [
    "Set the pynxtools directory and start H5Web for interactive exploring of HDF5 files."
   ]
  },
  {
   "cell_type": "code",
   "execution_count": null,
   "metadata": {},
   "outputs": [],
   "source": [
    "import os\n",
    "import zipfile as zp\n",
    "import numpy as np\n",
    "from jupyterlab_h5web import H5Web\n",
    "print(f\"Current working directory: {os.getcwd()}\")\n",
    "print(f\"So-called base, home, or root directory of the pynxtools: {os.getcwd().replace('/examples/em', '')}\")"
   ]
  },
  {
   "cell_type": "markdown",
   "metadata": {},
   "source": [
    "### **Step 2:** Use your own data or download an example"
   ]
  },
  {
   "cell_type": "markdown",
   "metadata": {},
   "source": [
    "<div class=\"alert alert-block alert-danger\">\n",
    "Please note that the metadata inside the provided em.oasis.specific.yaml and eln_data_apm.yaml files<br>\n",
    "contain exemplar values. These do not necessarily reflect the conditions when the raw data of example<br>\n",
    "above-mentioned were collected by the scientists. Instead, these file are meant to be edited by you,<br>\n",
    "either and preferably programmatically e.g. using output from an electronic lab notebook or manually.</div>"
   ]
  },
  {
   "cell_type": "markdown",
   "metadata": {},
   "source": [
    "This example shows the types of files from which the parser collects and normalizes pieces of information:<br>\n",
    "* **eln_data.yaml** metadata collected with an electronic lab notebook (ELN) such as a NOMAD Oasis custom schema<br>\n",
    "* **em.oasis.specific.yaml** frequently used metadata that are often the same for many datasets to avoid having to<br>\n",
    "  type it every time in ELN templates. This file can be considered a configuration file whereby e.g. coordinate system<br>\n",
    "  conventions can be injected or details about the atom probe instrument communicated if that is part of frequently used<br>\n",
    "  lab equipment. The benefit of such an approach is that eventual all relevant metadata to an instrument can be read from\n",
    "  this configuration file via guiding the user e.g. through the ELN with an option to select the instrument.<br>\n",
    "* **collected data** in community, technology partner format with images, spectra, and other metadata.<br>\n",
    "\n",
    "The tool several of the currently frequently used file formats of the electron microscopy community. Given that there is<br>\n",
    "though a large number of these and different versions users should also be aware that we had to prioritize the implementation<br>\n",
    "strongly. We cannot implement every request to add support for further formats or additional pieces of information in those<br>\n",
    "formats we currently do support with the resources in the FAIRmat project. Nevertheless, please raise an issue to document<br>\n",
    "where we should place our priorities.<br>\n",
    "Consult the reference part of the documentation to get a detailed view on how specific formats are supported.<br>"
   ]
  },
  {
   "cell_type": "markdown",
   "metadata": {
    "tags": []
   },
   "source": [
    "### **Step 3:** Run the parser"
   ]
  },
  {
   "cell_type": "code",
   "execution_count": null,
   "metadata": {
    "tags": []
   },
   "outputs": [],
   "source": [
    "eln_data = [\"eln_data.yaml\"]\n",
    "deployment_specific = [\"em.oasis.specific.yaml\"]\n",
    "tech_partner = [\"CHANGEME YOUR TECH PARTNER FILE (e.g. EMD, Nion, etc.)\"]\n",
    "output_file_name = [\"em.nxs\"]\n",
    "for case_id in np.arange(0, 1):\n",
    "    ELN = eln_data[case_id]\n",
    "    CFG = deployment_specific[case_id]\n",
    "    DATA = tech_partner[case_id]\n",
    "    OUTPUT = output_file_name[case_id]\n",
    "\n",
    "    # CHANGEME activate the following line\n",
    "    # ! dataconverter convert $ELN $CFG $DATA --reader em --nxdl NXem --output $OUTPUT"
   ]
  },
  {
   "cell_type": "markdown",
   "metadata": {
    "tags": []
   },
   "source": [
    "### **Step 4:** Inspect the NeXus/HDF5 file using H5Web."
   ]
  },
  {
   "cell_type": "code",
   "execution_count": null,
   "metadata": {},
   "outputs": [],
   "source": [
    "# CHANGEME activate the following line to view the data\n",
    "# H5Web(OUTPUT)"
   ]
  },
  {
   "cell_type": "markdown",
   "metadata": {},
   "source": [
    "The NeXus file an also be viewed with H5Web by opening it via the file explorer panel to the left side of this Jupyter lab window."
   ]
  },
  {
   "cell_type": "markdown",
   "metadata": {},
   "source": [
    "# Conclusions:\n",
    "***"
   ]
  },
  {
   "cell_type": "markdown",
   "metadata": {},
   "source": [
    "This tutorial showed how you can call the pynxtools-em parser via a jupyter notebook. This opens many possibilities<br>\n",
    "like processing the results further with Python such as through e.g. <a href=\"https://conda.io/projects/conda/en/latest/user-guide/install/index.html\">conda</a> on your local computer, <a href=\"https://docs.python.org/3/tutorial/venv.html\">a virtual environment</a><br>\n",
    "or to interface with community software to do further processing of your data.<br>"
   ]
  },
  {
   "cell_type": "markdown",
   "metadata": {},
   "source": [
    "### Contact person for pynxtools-apm and related examples in FAIRmat:\n",
    "Dr.-Ing. Markus Kühbach, 2024/05/10<br>\n",
    "\n",
    "### Funding\n",
    "<a href=\"https://www.fairmat-nfdi.eu/fairmat\">FAIRmat</a> is a consortium on research data management which is part of the German NFDI.<br>\n",
    "The project is funded by the Deutsche Forschungsgemeinschaft (DFG, German Research Foundation) – project 460197019."
   ]
  },
  {
   "cell_type": "code",
   "execution_count": null,
   "metadata": {},
   "outputs": [],
   "source": []
  }
 ],
 "metadata": {
  "kernelspec": {
   "display_name": "Python 3 (ipykernel)",
   "language": "python",
   "name": "python3"
  },
  "language_info": {
   "codemirror_mode": {
    "name": "ipython",
    "version": 3
   },
   "file_extension": ".py",
   "mimetype": "text/x-python",
   "name": "python",
   "nbconvert_exporter": "python",
   "pygments_lexer": "ipython3",
   "version": "3.11.5"
  }
 },
 "nbformat": 4,
 "nbformat_minor": 4
}
